{
 "cells": [
  {
   "cell_type": "markdown",
   "metadata": {},
   "source": [
    "## ****Install `ipykernel`****"
   ]
  },
  {
   "cell_type": "code",
   "execution_count": 1,
   "metadata": {},
   "outputs": [
    {
     "name": "stdout",
     "output_type": "stream",
     "text": [
      "Requirement already satisfied: ipykernel in c:\\users\\hp\\appdata\\local\\programs\\python\\python313\\lib\\site-packages (6.29.5)Note: you may need to restart the kernel to use updated packages.\n",
      "\n",
      "Requirement already satisfied: comm>=0.1.1 in c:\\users\\hp\\appdata\\local\\programs\\python\\python313\\lib\\site-packages (from ipykernel) (0.2.2)\n",
      "Requirement already satisfied: debugpy>=1.6.5 in c:\\users\\hp\\appdata\\local\\programs\\python\\python313\\lib\\site-packages (from ipykernel) (1.8.10)\n",
      "Requirement already satisfied: ipython>=7.23.1 in c:\\users\\hp\\appdata\\local\\programs\\python\\python313\\lib\\site-packages (from ipykernel) (8.30.0)\n",
      "Requirement already satisfied: jupyter-client>=6.1.12 in c:\\users\\hp\\appdata\\local\\programs\\python\\python313\\lib\\site-packages (from ipykernel) (8.6.3)\n",
      "Requirement already satisfied: jupyter-core!=5.0.*,>=4.12 in c:\\users\\hp\\appdata\\local\\programs\\python\\python313\\lib\\site-packages (from ipykernel) (5.7.2)\n",
      "Requirement already satisfied: matplotlib-inline>=0.1 in c:\\users\\hp\\appdata\\local\\programs\\python\\python313\\lib\\site-packages (from ipykernel) (0.1.7)\n",
      "Requirement already satisfied: nest-asyncio in c:\\users\\hp\\appdata\\local\\programs\\python\\python313\\lib\\site-packages (from ipykernel) (1.6.0)\n",
      "Requirement already satisfied: packaging in c:\\users\\hp\\appdata\\local\\programs\\python\\python313\\lib\\site-packages (from ipykernel) (24.2)\n",
      "Requirement already satisfied: psutil in c:\\users\\hp\\appdata\\local\\programs\\python\\python313\\lib\\site-packages (from ipykernel) (6.1.0)\n",
      "Requirement already satisfied: pyzmq>=24 in c:\\users\\hp\\appdata\\local\\programs\\python\\python313\\lib\\site-packages (from ipykernel) (26.2.0)\n",
      "Requirement already satisfied: tornado>=6.1 in c:\\users\\hp\\appdata\\local\\programs\\python\\python313\\lib\\site-packages (from ipykernel) (6.4.2)\n",
      "Requirement already satisfied: traitlets>=5.4.0 in c:\\users\\hp\\appdata\\local\\programs\\python\\python313\\lib\\site-packages (from ipykernel) (5.14.3)\n",
      "Requirement already satisfied: colorama in c:\\users\\hp\\appdata\\local\\programs\\python\\python313\\lib\\site-packages (from ipython>=7.23.1->ipykernel) (0.4.6)\n",
      "Requirement already satisfied: decorator in c:\\users\\hp\\appdata\\local\\programs\\python\\python313\\lib\\site-packages (from ipython>=7.23.1->ipykernel) (5.1.1)\n",
      "Requirement already satisfied: jedi>=0.16 in c:\\users\\hp\\appdata\\local\\programs\\python\\python313\\lib\\site-packages (from ipython>=7.23.1->ipykernel) (0.19.2)\n",
      "Requirement already satisfied: prompt_toolkit<3.1.0,>=3.0.41 in c:\\users\\hp\\appdata\\local\\programs\\python\\python313\\lib\\site-packages (from ipython>=7.23.1->ipykernel) (3.0.48)\n",
      "Requirement already satisfied: pygments>=2.4.0 in c:\\users\\hp\\appdata\\local\\programs\\python\\python313\\lib\\site-packages (from ipython>=7.23.1->ipykernel) (2.18.0)\n",
      "Requirement already satisfied: stack_data in c:\\users\\hp\\appdata\\local\\programs\\python\\python313\\lib\\site-packages (from ipython>=7.23.1->ipykernel) (0.6.3)\n",
      "Requirement already satisfied: python-dateutil>=2.8.2 in c:\\users\\hp\\appdata\\local\\programs\\python\\python313\\lib\\site-packages (from jupyter-client>=6.1.12->ipykernel) (2.9.0.post0)\n",
      "Requirement already satisfied: platformdirs>=2.5 in c:\\users\\hp\\appdata\\local\\programs\\python\\python313\\lib\\site-packages (from jupyter-core!=5.0.*,>=4.12->ipykernel) (4.3.6)\n",
      "Requirement already satisfied: pywin32>=300 in c:\\users\\hp\\appdata\\local\\programs\\python\\python313\\lib\\site-packages (from jupyter-core!=5.0.*,>=4.12->ipykernel) (308)\n",
      "Requirement already satisfied: parso<0.9.0,>=0.8.4 in c:\\users\\hp\\appdata\\local\\programs\\python\\python313\\lib\\site-packages (from jedi>=0.16->ipython>=7.23.1->ipykernel) (0.8.4)\n",
      "Requirement already satisfied: wcwidth in c:\\users\\hp\\appdata\\local\\programs\\python\\python313\\lib\\site-packages (from prompt_toolkit<3.1.0,>=3.0.41->ipython>=7.23.1->ipykernel) (0.2.13)\n",
      "Requirement already satisfied: six>=1.5 in c:\\users\\hp\\appdata\\local\\programs\\python\\python313\\lib\\site-packages (from python-dateutil>=2.8.2->jupyter-client>=6.1.12->ipykernel) (1.17.0)\n",
      "Requirement already satisfied: executing>=1.2.0 in c:\\users\\hp\\appdata\\local\\programs\\python\\python313\\lib\\site-packages (from stack_data->ipython>=7.23.1->ipykernel) (2.1.0)\n",
      "Requirement already satisfied: asttokens>=2.1.0 in c:\\users\\hp\\appdata\\local\\programs\\python\\python313\\lib\\site-packages (from stack_data->ipython>=7.23.1->ipykernel) (3.0.0)\n",
      "Requirement already satisfied: pure-eval in c:\\users\\hp\\appdata\\local\\programs\\python\\python313\\lib\\site-packages (from stack_data->ipython>=7.23.1->ipykernel) (0.2.3)\n"
     ]
    },
    {
     "name": "stderr",
     "output_type": "stream",
     "text": [
      "\n",
      "[notice] A new release of pip is available: 24.3.1 -> 25.0.1\n",
      "[notice] To update, run: python.exe -m pip install --upgrade pip\n"
     ]
    }
   ],
   "source": [
    "%pip install ipykernel"
   ]
  },
  {
   "cell_type": "code",
   "execution_count": 2,
   "metadata": {},
   "outputs": [
    {
     "name": "stdout",
     "output_type": "stream",
     "text": [
      "Hello, World\n"
     ]
    }
   ],
   "source": [
    "print(\"Hello, World\")"
   ]
  },
  {
   "cell_type": "markdown",
   "metadata": {},
   "source": [
    "## **Commenting**\n",
    "Commenting is the process of adding annotations or remarks within your code to provide explanations, context, or documentation. Comments are not executed by the interpreter/compiler and are purely for the benefit of developers reading the code.\n",
    "\n",
    "#### **Types of Comments:**"
   ]
  },
  {
   "cell_type": "markdown",
   "metadata": {},
   "source": [
    "- **Single-Line Comments:** These comments start with a specific character (e.g., # in Python) and continue until the end of the line. They are suitable for brief annotations or remarks on individual lines of code."
   ]
  },
  {
   "cell_type": "code",
   "execution_count": 3,
   "metadata": {},
   "outputs": [
    {
     "name": "stdout",
     "output_type": "stream",
     "text": [
      "Hello, World\n"
     ]
    }
   ],
   "source": [
    "# This is a single line comment\n",
    "print(\"Hello, World\")"
   ]
  },
  {
   "cell_type": "markdown",
   "metadata": {},
   "source": [
    "- **Multi-Line Comments:** While many programming languages support multi-line comments, Python does not have an explicit syntax for them. However, multi-line strings (docstrings) enclosed in triple quotes (\"\"\") are often used for this purpose. They are primarily intended for documenting modules, classes, functions, and methods."
   ]
  },
  {
   "cell_type": "code",
   "execution_count": 4,
   "metadata": {},
   "outputs": [
    {
     "name": "stdout",
     "output_type": "stream",
     "text": [
      "Hello, World\n"
     ]
    }
   ],
   "source": [
    "\"\"\"\n",
    "  This is a\n",
    "  multi-line\n",
    "  comment\n",
    "\"\"\"\n",
    "print(\"Hello, World\")"
   ]
  },
  {
   "cell_type": "markdown",
   "metadata": {},
   "source": [
    "- **Inline Comments:** Inline comments appear on the same line as code and provide additional context or explanation for that specific line of code. However, excessive use of inline comments can clutter the code and reduce readability, so they should be used sparingly and only when necessary."
   ]
  },
  {
   "cell_type": "code",
   "execution_count": 5,
   "metadata": {},
   "outputs": [
    {
     "name": "stdout",
     "output_type": "stream",
     "text": [
      "Hello, World\n"
     ]
    }
   ],
   "source": [
    "print(\"Hello, World\") # This is an example of an inline comment"
   ]
  },
  {
   "cell_type": "markdown",
   "metadata": {},
   "source": [
    "## **Variables**\n",
    "\n",
    "#### **Creating Variables**\n",
    "\n",
    "Creating a variable in Python is simple. You assign a value to a variable name and start using it. Python figures out the variable type automatically.\n",
    "\n",
    "#### **Variable Naming Rules**\n",
    "- Variable names can contain letters (both uppercase and lowercase), digits, and underscores.\n",
    "- They must begin with a letter or an underscore (_), but not with a digit.\n",
    "- Case sensitive (myVar and myvar are different variables)\n",
    "- Python keywords cannot be used as variable names."
   ]
  },
  {
   "cell_type": "code",
   "execution_count": 6,
   "metadata": {},
   "outputs": [
    {
     "name": "stdout",
     "output_type": "stream",
     "text": [
      "10\n",
      "5\n",
      "15\n",
      "5 10 15\n"
     ]
    }
   ],
   "source": [
    "number = 10\n",
    "Number = 5\n",
    "# snake_casing\n",
    "third_number = 15\n",
    "print(number)\n",
    "print(Number)\n",
    "print(third_number)\n",
    "print(Number, number, third_number)"
   ]
  },
  {
   "cell_type": "code",
   "execution_count": 7,
   "metadata": {},
   "outputs": [
    {
     "name": "stdout",
     "output_type": "stream",
     "text": [
      "This is a message\n"
     ]
    }
   ],
   "source": [
    "# Variable names are case sensitive\n",
    "Print = \"This is a message\"\n",
    "print(Print)"
   ]
  },
  {
   "cell_type": "markdown",
   "metadata": {},
   "source": [
    "## **Numeric Data Types**\n",
    "\n",
    "- **int** - Integer values, such as `5`, `-3`, `1000`, etc."
   ]
  },
  {
   "cell_type": "code",
   "execution_count": 8,
   "metadata": {},
   "outputs": [
    {
     "name": "stdout",
     "output_type": "stream",
     "text": [
      "Positive Integer: 30\n",
      "Negative Integer: -30\n",
      "Zero: 0\n",
      "Data type of Positive Integer: <class 'int'>\n",
      "Data type of Negative Integer: <class 'int'>\n",
      "Data type of Zero: <class 'int'>\n"
     ]
    }
   ],
   "source": [
    "positive_integer = 30\n",
    "negative_integer = -30\n",
    "zero = 0 \n",
    "\n",
    "print(\"Positive Integer:\", positive_integer)\n",
    "print(\"Negative Integer:\", negative_integer)\n",
    "print(\"Zero:\", zero)\n",
    "print(\"Data type of Positive Integer:\", type(positive_integer))\n",
    "print(\"Data type of Negative Integer:\", type(negative_integer))\n",
    "print(\"Data type of Zero:\", type(zero))"
   ]
  },
  {
   "cell_type": "markdown",
   "metadata": {},
   "source": [
    "- **float**: Floating-point values, representing decimal numbers, such as `3.14`, `-0.001`, `2.0`, etc."
   ]
  },
  {
   "cell_type": "code",
   "execution_count": 9,
   "metadata": {},
   "outputs": [
    {
     "name": "stdout",
     "output_type": "stream",
     "text": [
      "Positive Float: 3.14\n",
      "Negative Float: -3.14\n",
      "Data type of Positive Float: <class 'float'>\n",
      "Data type of Negative Float: <class 'float'>\n"
     ]
    }
   ],
   "source": [
    "positive_float = 3.14\n",
    "negative_float = -3.14\n",
    "\n",
    "print(\"Positive Float:\", positive_float)\n",
    "print(\"Negative Float:\", negative_float)\n",
    "print(\"Data type of Positive Float:\", type(positive_float))\n",
    "print(\"Data type of Negative Float:\", type(negative_float))"
   ]
  },
  {
   "cell_type": "markdown",
   "metadata": {},
   "source": [
    "## **Operators and Expressions**\n",
    "\n",
    "### **Arithmetic Operators**"
   ]
  },
  {
   "cell_type": "code",
   "execution_count": 10,
   "metadata": {},
   "outputs": [
    {
     "name": "stdout",
     "output_type": "stream",
     "text": [
      "Addtion (+): 15\n",
      "Subtraction (-): 5\n",
      "Multiplication (*): 50\n",
      "Division (/): 2.0\n",
      "Remainder (%): 1\n",
      "Remainder (%): 0\n",
      "Exponent(**): 100000\n"
     ]
    }
   ],
   "source": [
    "num1 = 10\n",
    "num2 = 5\n",
    "\n",
    "# Addition (+) = sum\n",
    "sum = num1 + num2\n",
    "print(\"Addtion (+):\", sum)\n",
    "\n",
    "# Subtract (-) = difference\n",
    "print(\"Subtraction (-):\", num1 - num2)\n",
    "\n",
    "# Multiplication (*) = product\n",
    "print(\"Multiplication (*):\", num1 * num2)\n",
    "\n",
    "# Division (/) = quotient\n",
    "# Result is float\n",
    "print(\"Division (/):\", num1 / num2)\n",
    "\n",
    "# Modulus (%) = remainder\n",
    "print(\"Remainder (%):\", 11 % 2)\n",
    "print(\"Remainder (%):\", 10 % 2)\n",
    "\n",
    "# Exponentiation (**)\n",
    "print(\"Exponent(**):\", num1 ** num2)\n"
   ]
  },
  {
   "cell_type": "code",
   "execution_count": 11,
   "metadata": {},
   "outputs": [
    {
     "name": "stdout",
     "output_type": "stream",
     "text": [
      "28.0\n"
     ]
    }
   ],
   "source": [
    "# Order of Operations\n",
    "# PEMDAS / BODMAS\n",
    "'''\n",
    "  P - Parenthesis\n",
    "  E - Exponents\n",
    "  MD - Multiplication & Division (left to right)\n",
    "  AS - Addition & Subtraction (left to right)\n",
    "'''\n",
    "print(10 + 8 / 4 * (5 - 2) ** 2)\n",
    "# print(10 + 8 / 4 * 3 ** 2)\n",
    "# print(10 + 8 / 4 * 9)\n",
    "# print(10 + 2 * 9)\n",
    "# print(10 + 18)\n",
    "# print(28.0)"
   ]
  },
  {
   "cell_type": "markdown",
   "metadata": {},
   "source": [
    "## **Boolean Data Type**\n",
    "- **bool**: Boolean values representing True or False."
   ]
  },
  {
   "cell_type": "code",
   "execution_count": 14,
   "metadata": {},
   "outputs": [
    {
     "name": "stdout",
     "output_type": "stream",
     "text": [
      "Is the user a student? True\n",
      "Data Type of is_student: <class 'bool'>\n"
     ]
    }
   ],
   "source": [
    "is_student = True\n",
    "\n",
    "print(\"Is the user a student?\", is_student)\n",
    "print(\"Data Type of is_student:\", type(is_student))"
   ]
  },
  {
   "cell_type": "markdown",
   "metadata": {},
   "source": [
    "### **Comparison Operators**"
   ]
  },
  {
   "cell_type": "code",
   "execution_count": null,
   "metadata": {},
   "outputs": [
    {
     "name": "stdout",
     "output_type": "stream",
     "text": [
      "Equal to (==): False\n",
      "Not Equal to (!=): True\n",
      "Greater than (>): True\n",
      "Less than (<): False\n",
      "Greater Than or Equal to (>=): True\n",
      "Less Than or Equal to (<=): False\n"
     ]
    }
   ],
   "source": [
    "num5 = 10\n",
    "num6 = 5\n",
    "\n",
    "print(\"Equal to (==):\", num5 == num6)\n",
    "print(\"Not Equal to (!=):\", num5 != num6)\n",
    "print(\"Greater than (>):\", num5 > num6)\n",
    "print(\"Less than (<):\", num5 < num6)\n",
    "\n",
    "print(\"Greater Than or Equal to (>=):\", num5 >= num6)\n",
    "print(\"Less Than or Equal to (<=):\", num5 <= num6)\n"
   ]
  },
  {
   "cell_type": "markdown",
   "metadata": {},
   "source": [
    "### **Logical Operators**"
   ]
  },
  {
   "cell_type": "code",
   "execution_count": null,
   "metadata": {},
   "outputs": [
    {
     "name": "stdout",
     "output_type": "stream",
     "text": [
      "Is it sunny AND warm? False\n",
      "Is it sunny OR warm? False\n",
      "Not sunny: True\n"
     ]
    }
   ],
   "source": [
    "sunny = True\n",
    "warm = False\n",
    "\n",
    "# AND, OR, NOT\n",
    "\n",
    "# AND: True if all conditions are met otherwise, False\n",
    "print(\"Is it sunny AND warm?\", sunny and warm)\n",
    "\n",
    "# OR: True if at least one condition is met\n",
    "print(\"Is it sunny OR warm?\", sunny or warm)\n",
    "\n",
    "# NOT: Inverts the value of the boolean\n",
    "print(\"Not sunny:\", not sunny)"
   ]
  },
  {
   "cell_type": "markdown",
   "metadata": {},
   "source": [
    "## **Strings and String Methods**\n",
    "\n",
    "Strings are sequences of characters and are among the most used data types in Python, especially in data analytics for processing text data.\n",
    "\n",
    "#### **Introduction to Strings**\n",
    "\n",
    "Strings in Python are created by enclosing characters in quotes. Python treats single quotes (') and double quotes (\") as the same, allowing you to incorporate one type of quote within another including an apostrophe within a string.\n",
    "\n",
    "#### **Creating and Accessing Strings**"
   ]
  },
  {
   "cell_type": "code",
   "execution_count": 32,
   "metadata": {},
   "outputs": [
    {
     "name": "stdout",
     "output_type": "stream",
     "text": [
      "First name: John\n",
      "Last name: Doe\n",
      "Data type of first name: <class 'str'>\n",
      "Length of first name: 4\n"
     ]
    }
   ],
   "source": [
    "first_name = \"John\"\n",
    "last_name = 'Doe'\n",
    "\n",
    "print(\"First name:\", first_name)\n",
    "print(\"Last name:\", last_name)\n",
    "print(\"Data type of first name:\", type(first_name))\n",
    "print(\"Length of first name:\", len(first_name))"
   ]
  },
  {
   "cell_type": "code",
   "execution_count": null,
   "metadata": {},
   "outputs": [
    {
     "name": "stdout",
     "output_type": "stream",
     "text": [
      "First character: H\n",
      "Length of message: 28\n",
      "Last character: .\n",
      "Last character: n\n"
     ]
    }
   ],
   "source": [
    "# Indexing\n",
    "message = \"Hello Python! I love Python.\"\n",
    "\n",
    "print(\"First character:\", message[0])\n",
    "print(\"Length of message:\", len(message))\n",
    "print(\"Last character:\", message[len(message) - 1])\n",
    "print(\"Second to the last character:\", message[-2])"
   ]
  },
  {
   "cell_type": "code",
   "execution_count": null,
   "metadata": {},
   "outputs": [
    {
     "name": "stdout",
     "output_type": "stream",
     "text": [
      "Original message: Hello Python! I love Python.\n",
      "Slice the string: Hello\n",
      "Step/Skip 2: HloPto!Ilv yhn\n",
      "Reverse the Message: .nohtyP evol I !nohtyP olleH\n"
     ]
    }
   ],
   "source": [
    "# Slicing Parameters\n",
    "# [starting_index : ending_index(excluded) : step]\n",
    "\n",
    "print(\"Original message:\", message)\n",
    "print(\"Slice the string:\", message[0:5])\n",
    "\n",
    "# step parameter determines how many characters to skip between each selected character\n",
    "# positive step value moves forward to the string\n",
    "# negative step value moves backward (reverse)\n",
    "print(\"Step/Skip 2:\", message[::2])\n",
    "print(\"Reverse the Message:\", message[::-1])"
   ]
  },
  {
   "cell_type": "markdown",
   "metadata": {},
   "source": [
    "### **String Methods**"
   ]
  },
  {
   "cell_type": "code",
   "execution_count": 54,
   "metadata": {},
   "outputs": [
    {
     "name": "stdout",
     "output_type": "stream",
     "text": [
      "Capitalize: Data analytics\n",
      "Title: Data Analytics\n",
      "Upper: DATA ANALYTICS\n",
      "Lower: data analytics\n"
     ]
    }
   ],
   "source": [
    "course = \"data analytics\"\n",
    "\n",
    "print(\"Capitalize:\", course.capitalize())\n",
    "print(\"Title:\", course.title())\n",
    "print(\"Upper:\", course.upper())\n",
    "print(\"Lower:\", course.lower())"
   ]
  },
  {
   "cell_type": "code",
   "execution_count": null,
   "metadata": {},
   "outputs": [
    {
     "name": "stdout",
     "output_type": "stream",
     "text": [
      "Find Analytics in Course: 5\n",
      "Find Science: -1\n",
      "Find a: 1\n",
      "Is Analytics in course: True\n",
      "Is Science in course: False\n",
      "Replace: data science\n"
     ]
    }
   ],
   "source": [
    "# Searching for a certain character\n",
    "\n",
    "print(\"Find Analytics in Course:\", course.find(\"analytics\"))\n",
    "print(\"Find Science:\", course.find(\"science\"))\n",
    "print(\"Find a:\", course.find(\"a\"))\n",
    "\n",
    "print(\"Is Analytics in course:\", \"analytics\" in course)\n",
    "print(\"Is Science in course:\", \"science\" in course)\n",
    "\n",
    "print(\"Replace:\", course.replace(\"analytics\", \"science\"))"
   ]
  },
  {
   "cell_type": "markdown",
   "metadata": {},
   "source": [
    "### **Concatenation, Formatted String**"
   ]
  },
  {
   "cell_type": "markdown",
   "metadata": {},
   "source": [
    "- **Concatenation**"
   ]
  },
  {
   "cell_type": "code",
   "execution_count": 67,
   "metadata": {},
   "outputs": [
    {
     "name": "stdout",
     "output_type": "stream",
     "text": [
      "Concantenation: Jane Smith\n"
     ]
    }
   ],
   "source": [
    "first_name = \"Jane\"\n",
    "last_name = \"Smith\"\n",
    "\n",
    "print(\"Concantenation:\", first_name + \" \" + last_name)"
   ]
  },
  {
   "cell_type": "markdown",
   "metadata": {},
   "source": [
    "- **Formatted Strings Literals (f-strings)** "
   ]
  },
  {
   "cell_type": "code",
   "execution_count": 69,
   "metadata": {},
   "outputs": [
    {
     "name": "stdout",
     "output_type": "stream",
     "text": [
      "Formatted Strings: Jane Smith\n"
     ]
    }
   ],
   "source": [
    "print(f\"Formatted Strings: {first_name} {last_name}\")"
   ]
  },
  {
   "cell_type": "markdown",
   "metadata": {},
   "source": [
    "## **Lists and List Methods**\n",
    "\n",
    "#### **Introduction to Lists**\n",
    "\n",
    "Lists are mutable sequences, meaning you can modify them after creation. They can contain items of any type, making them incredibly versatile for data collection and manipulation tasks.\n",
    "\n",
    "- Mutability: Lists are mutable, meaning their elements can be changed after creation.\n",
    "- Syntax: Lists are enclosed in square brackets ([]), and elements are separated by commas.\n",
    "- Indexing and Ordering: Lists are ordered collections, preserving the order of elements. Elements can be accessed using indices.\n",
    "- Usage: Lists are suitable for mutable sequences of items, like arrays, stacks, or queues.\n",
    "\n",
    "#### **Creating and Modifying Lists**"
   ]
  },
  {
   "cell_type": "code",
   "execution_count": 79,
   "metadata": {},
   "outputs": [
    {
     "name": "stdout",
     "output_type": "stream",
     "text": [
      "Numbers: [1, 2, 3, 4, 5]\n",
      "Fruits: ['Apple', 'Banana', 'Cherry', 'Durian']\n",
      "Mixed List: [30, 3.14, 'Mango', True]\n",
      "Data Type of the List: <class 'list'>\n",
      "Length of Mixed List: 4\n"
     ]
    }
   ],
   "source": [
    "# Create a List\n",
    "numbers = [1, 2, 3, 4, 5]\n",
    "fruits = [\"Apple\", \"Banana\", \"Cherry\", \"Durian\"]\n",
    "mixed_list = [30, 3.14, \"Mango\", True]\n",
    "\n",
    "print(\"Numbers:\", numbers)\n",
    "print(\"Fruits:\", fruits)\n",
    "print(\"Mixed List:\", mixed_list)\n",
    "print(\"Data Type of the List:\", type(mixed_list))\n",
    "print(\"Length of Mixed List:\", len(mixed_list))"
   ]
  },
  {
   "cell_type": "code",
   "execution_count": 80,
   "metadata": {},
   "outputs": [
    {
     "name": "stdout",
     "output_type": "stream",
     "text": [
      "First Element: Apple\n",
      "Last Element: Durian\n"
     ]
    }
   ],
   "source": [
    "# List Indexing\n",
    "print(\"First Element:\", fruits[0])\n",
    "print(\"Last Element:\", fruits[-1])"
   ]
  },
  {
   "cell_type": "code",
   "execution_count": 86,
   "metadata": {},
   "outputs": [
    {
     "name": "stdout",
     "output_type": "stream",
     "text": [
      "Fruits: ['Banana', 'Cherry', 'Durian']\n",
      "Numbers: [2, 3, 4]\n",
      "By twos: [1, 3, 5]\n",
      "Reverse the list: [5, 4, 3, 2, 1]\n"
     ]
    }
   ],
   "source": [
    "# List Slicing\n",
    "# [starting_index : ending_index(excluded): step]\n",
    "print(\"Fruits:\", fruits[1::])\n",
    "print(\"Numbers:\", numbers[1:4:])\n",
    "print(\"By twos:\", numbers[::2])\n",
    "print(\"Reverse the list:\", numbers[::-1])"
   ]
  },
  {
   "cell_type": "markdown",
   "metadata": {},
   "source": [
    "#### **List Methods**"
   ]
  },
  {
   "cell_type": "code",
   "execution_count": 97,
   "metadata": {},
   "outputs": [
    {
     "name": "stdout",
     "output_type": "stream",
     "text": [
      "['Python', 'JavaScript', 'PHP', 'C#', 'C++', 'Ruby']\n",
      "['Python', 'Java', 'JavaScript', 'PHP', 'C#', 'C++', 'Ruby']\n",
      "['Python', 'Java', 'JavaScript', 'PHP', 'C#', 'C++', 'Ruby']\n"
     ]
    }
   ],
   "source": [
    "programming_languages = [\"Python\", \"JavaScript\", \"PHP\", \"C#\", \"C++\"]\n",
    "\n",
    "# ADD\n",
    "# append(element) - Add an element at the end of the list\n",
    "programming_languages.append(\"Ruby\")\n",
    "print(programming_languages)\n",
    "\n",
    "# insert(index, element) - Add an element at a specified index\n",
    "programming_languages.insert(1, \"Java\")\n",
    "print(programming_languages)\n",
    "\n",
    "# copy()\n",
    "copy_of_proramming_languages = programming_languages.copy()\n",
    "print(copy_of_proramming_languages)"
   ]
  },
  {
   "cell_type": "code",
   "execution_count": null,
   "metadata": {},
   "outputs": [
    {
     "name": "stdout",
     "output_type": "stream",
     "text": [
      "['Python', 'Java', 'JavaScript', 'PHP', 'C#', 'C++']\n",
      "['Python', 'Java', 'PHP', 'C#', 'C++']\n",
      "['Python', 'Java', 'C#', 'C++']\n",
      "['Python', 'Java', 'JavaScript', 'PHP', 'C#', 'C++', 'Ruby']\n"
     ]
    }
   ],
   "source": [
    "# DELETE\n",
    "\n",
    "# .pop(): delete an element at the end/specified index\n",
    "programming_languages.pop()\n",
    "print(programming_languages)\n",
    "\n",
    "programming_languages.pop(2)\n",
    "print(programming_languages)\n",
    "\n",
    "# .remove(element)\n",
    "programming_languages.remove(\"PHP\")\n",
    "print(programming_languages)\n",
    "\n",
    "print(copy_of_proramming_languages)"
   ]
  },
  {
   "cell_type": "code",
   "execution_count": 100,
   "metadata": {},
   "outputs": [
    {
     "name": "stdout",
     "output_type": "stream",
     "text": [
      "[]\n"
     ]
    }
   ],
   "source": [
    "# clear()\n",
    "programming_languages.clear()\n",
    "print(programming_languages)"
   ]
  },
  {
   "cell_type": "markdown",
   "metadata": {},
   "source": [
    "#### **List Extending**"
   ]
  },
  {
   "cell_type": "code",
   "execution_count": 101,
   "metadata": {},
   "outputs": [
    {
     "name": "stdout",
     "output_type": "stream",
     "text": [
      "['a', 'b', 'c', 'd', 1, 2, 3, 4, 5]\n"
     ]
    }
   ],
   "source": [
    "list_of_letters = ['a', 'b', 'c', 'd']\n",
    "list_of_numbers = [1, 2, 3, 4, 5]\n",
    "\n",
    "# .extend(): extend the list with another list\n",
    "list_of_letters.extend(list_of_numbers)\n",
    "print(list_of_letters)"
   ]
  },
  {
   "cell_type": "markdown",
   "metadata": {},
   "source": [
    "#### **Sorting List**"
   ]
  },
  {
   "cell_type": "code",
   "execution_count": null,
   "metadata": {},
   "outputs": [
    {
     "name": "stdout",
     "output_type": "stream",
     "text": [
      "[1, 2, 3, 4, 5, 6, 7, 8, 9]\n",
      "['Arthur', 'Galahad', 'Lancelot', 'Percival']\n",
      "ARTHUR\n",
      "['Percival', 'Lancelot', 'Galahad', 'Arthur']\n"
     ]
    }
   ],
   "source": [
    "list_of_numbers = [9, 1, 8, 2, 7, 3, 6, 4, 5]\n",
    "list_of_numbers.sort()\n",
    "print(list_of_numbers)\n",
    "\n",
    "# Sorting in reverse order\n",
    "list_of_numbers.sort(reverse=True)\n",
    "                     \n",
    "list_of_names = [\"Lancelot\", \"Galahad\", \"Arthur\", \"Percival\"]\n",
    "list_of_names.sort()\n",
    "print(list_of_names)\n",
    "\n",
    "list_of_names.sort(reverse=True)\n",
    "print(list_of_names)"
   ]
  },
  {
   "cell_type": "markdown",
   "metadata": {},
   "source": [
    "#### **Searching**"
   ]
  },
  {
   "cell_type": "code",
   "execution_count": 111,
   "metadata": {},
   "outputs": [
    {
     "name": "stdout",
     "output_type": "stream",
     "text": [
      "Index of Arthur: 3\n"
     ]
    }
   ],
   "source": [
    "# .index(element)\n",
    "index_of_arthur = list_of_names.index(\"Arthur\")\n",
    "print(\"Index of Arthur:\", index_of_arthur)\n",
    "\n",
    "# index_of_lucas = list_of_names.index(\"Lucas\")\n",
    "# print(\"Index of Lucas:\", index_of_lucas)\n",
    "# This return ValueError"
   ]
  },
  {
   "cell_type": "markdown",
   "metadata": {},
   "source": [
    "#### **Count**"
   ]
  },
  {
   "cell_type": "code",
   "execution_count": 112,
   "metadata": {},
   "outputs": [
    {
     "name": "stdout",
     "output_type": "stream",
     "text": [
      "Count: 1\n"
     ]
    }
   ],
   "source": [
    "print(\"Count:\", list_of_numbers.count(5))"
   ]
  },
  {
   "cell_type": "markdown",
   "metadata": {},
   "source": [
    "## **Tuples**\n",
    "\n",
    "**Introduction to Tuples**\n",
    "\n",
    "Tuples are ordered collections of items, just like lists. However, their immutability makes them useful for fixed data sequences and can serve as keys in dictionaries due to their hashable nature.\n",
    "\n",
    "- Mutability: Tuples are immutable, meaning their elements cannot be changed after creation.\n",
    "- Syntax: Tuples are enclosed in parentheses (()), and elements are separated by commas.\n",
    "- Indexing and Ordering: Tuples are ordered collections, preserving the order of elements. Elements can be accessed using indices.\n",
    "- Usage: Tuples are suitable for immutable sequences, often used for fixed collections of data.\n",
    "\n",
    "#### **Creating a tuple**"
   ]
  },
  {
   "cell_type": "code",
   "execution_count": 115,
   "metadata": {},
   "outputs": [
    {
     "name": "stdout",
     "output_type": "stream",
     "text": [
      "Numbers Tuple: (1, 2, 3, 4, 5)\n",
      "Data Type of numbers_tupe: <class 'tuple'>\n"
     ]
    }
   ],
   "source": [
    "numbers_tuple = (1, 2, 3, 4, 5)\n",
    "print(\"Numbers Tuple:\", numbers_tuple)\n",
    "print(\"Data Type of numbers_tupe:\", type(numbers_tuple))"
   ]
  },
  {
   "cell_type": "markdown",
   "metadata": {},
   "source": [
    "#### **Accessing Elements**"
   ]
  },
  {
   "cell_type": "code",
   "execution_count": 116,
   "metadata": {},
   "outputs": [
    {
     "name": "stdout",
     "output_type": "stream",
     "text": [
      "Third Number: 3\n"
     ]
    }
   ],
   "source": [
    "print(\"Third Number:\", numbers_tuple[2])"
   ]
  },
  {
   "cell_type": "markdown",
   "metadata": {},
   "source": [
    "#### **Tuple Immutability**"
   ]
  },
  {
   "cell_type": "code",
   "execution_count": 118,
   "metadata": {},
   "outputs": [],
   "source": [
    "# numbers_tuple[0] = 11\n",
    "# print(numbers_tuple)"
   ]
  },
  {
   "cell_type": "markdown",
   "metadata": {},
   "source": [
    "## **Dictionaries and Dictionary Methods**\n",
    "\n",
    "#### **Introduction to Dictionaries**\n",
    "\n",
    "Dictionaries in Python are unordered collections of items. While lists are indexed by a range of numbers, dictionaries are indexed by keys, which can be any immutable type; strings and numbers can always be keys.\n",
    "- Mutability: Dictionaries are mutable, meaning they can be modified by adding, updating, or removing key-value pairs.\n",
    "- Syntax: Dictionaries are enclosed in curly braces ({}), with key-value pairs separated by colons (:) and items separated by commas.\n",
    "- Indexing and Ordering: Dictionaries are unordered collections, and elements are accessed using keys rather than indices.\n",
    "- Usage: Dictionaries are suitable for key-value mappings, efficient lookup, and representing structured data\n",
    "\n",
    "#### **Creating a dictionary and accessing values**"
   ]
  },
  {
   "cell_type": "code",
   "execution_count": 120,
   "metadata": {},
   "outputs": [
    {
     "name": "stdout",
     "output_type": "stream",
     "text": [
      "Will Smith: {'first_name': 'Will', 'last_name': 'Smith', 'age': 50, 'address': '123 Example Street', 'is_married': True, 'skills': ['acting', 'singing', 'dancing']}\n",
      "Data Type of person: <class 'dict'>\n"
     ]
    }
   ],
   "source": [
    "person = {\n",
    "  # key : value\n",
    "  \"first_name\" : \"Will\",\n",
    "  \"last_name\" : \"Smith\",\n",
    "  \"age\" : 50,\n",
    "  \"address\" : \"123 Example Street\",\n",
    "  \"is_married\" : True,\n",
    "  \"skills\" : [\"acting\", \"singing\", \"dancing\"]\n",
    "}\n",
    "\n",
    "print(\"Will Smith:\", person)\n",
    "print(\"Data Type of person:\", type(person))"
   ]
  },
  {
   "cell_type": "code",
   "execution_count": 123,
   "metadata": {},
   "outputs": [
    {
     "name": "stdout",
     "output_type": "stream",
     "text": [
      "First Name: Will\n",
      "Skills: ['acting', 'singing', 'dancing']\n",
      "Skill 1: acting\n",
      "Skill 2: singing\n"
     ]
    }
   ],
   "source": [
    "# Dictionary Indexing\n",
    "print(\"First Name:\", person[\"first_name\"])\n",
    "print(\"Skills:\", person[\"skills\"])\n",
    "print(\"Skill 1:\", person[\"skills\"][0])\n",
    "print(\"Skill 2:\", person[\"skills\"][1])"
   ]
  },
  {
   "cell_type": "markdown",
   "metadata": {},
   "source": [
    "#### **Dictionary Methods**"
   ]
  },
  {
   "cell_type": "code",
   "execution_count": 125,
   "metadata": {},
   "outputs": [
    {
     "name": "stdout",
     "output_type": "stream",
     "text": [
      "Skills: ['acting', 'singing', 'dancing']\n",
      "Gender: None\n"
     ]
    }
   ],
   "source": [
    "# .get(key)\n",
    "print(\"Skills:\", person.get(\"skills\"))\n",
    "print(\"Gender:\", person.get(\"gender\"))"
   ]
  },
  {
   "cell_type": "code",
   "execution_count": 127,
   "metadata": {},
   "outputs": [
    {
     "name": "stdout",
     "output_type": "stream",
     "text": [
      "{'first_name': 'Will', 'last_name': 'Smith', 'age': 50, 'address': '123 Example Street', 'is_married': True, 'skills': ['acting', 'singing', 'dancing'], 'gender': 'Male'}\n",
      "{'first_name': 'Will', 'last_name': 'Smith', 'age': 50, 'address': '123 Example Street', 'is_married': True, 'skills': ['acting', 'singing', 'dancing'], 'gender': 'Female'}\n"
     ]
    }
   ],
   "source": [
    "# ADD \n",
    "person[\"gender\"] = \"Male\"\n",
    "print(person)\n",
    "\n",
    "# Update\n",
    "person[\"gender\"] = \"Female\"\n",
    "print(person)"
   ]
  },
  {
   "cell_type": "code",
   "execution_count": 128,
   "metadata": {},
   "outputs": [
    {
     "name": "stdout",
     "output_type": "stream",
     "text": [
      "{'first_name': 'Will', 'last_name': 'Smith', 'age': 50, 'address': '123 Example Street', 'is_married': True, 'skills': ['acting', 'singing', 'dancing']}\n"
     ]
    }
   ],
   "source": [
    "# Delete a key:value pair\n",
    "del person[\"gender\"]\n",
    "print(person)"
   ]
  },
  {
   "cell_type": "markdown",
   "metadata": {},
   "source": [
    "## **Control Flow and Statements**"
   ]
  },
  {
   "cell_type": "markdown",
   "metadata": {},
   "source": [
    "#### **Conditional Statements:** \n",
    "Allow us to execute different blocks of code based on a condition.\n",
    "\n",
    "- **if, elif, else statements**"
   ]
  },
  {
   "cell_type": "code",
   "execution_count": null,
   "metadata": {},
   "outputs": [],
   "source": []
  },
  {
   "cell_type": "markdown",
   "metadata": {},
   "source": [
    "#### **Looping Statements:** \n",
    "Repeatedly execute a block of code until a specific condition is met.\n",
    "\n",
    "- **for Loop**"
   ]
  },
  {
   "cell_type": "code",
   "execution_count": null,
   "metadata": {},
   "outputs": [],
   "source": []
  },
  {
   "cell_type": "markdown",
   "metadata": {},
   "source": [
    "## **Functions**\n",
    "\n",
    "- Groups code together into a block.\n",
    "- Allows us to call and reuse code efficently.\n",
    "- It could take in information (parameters) and return information (return statement) to the caller."
   ]
  },
  {
   "cell_type": "code",
   "execution_count": null,
   "metadata": {},
   "outputs": [],
   "source": []
  },
  {
   "cell_type": "markdown",
   "metadata": {},
   "source": [
    "#### **Functions with Parameters and Arguments**"
   ]
  },
  {
   "cell_type": "code",
   "execution_count": null,
   "metadata": {},
   "outputs": [],
   "source": []
  }
 ],
 "metadata": {
  "kernelspec": {
   "display_name": "Python 3",
   "language": "python",
   "name": "python3"
  },
  "language_info": {
   "codemirror_mode": {
    "name": "ipython",
    "version": 3
   },
   "file_extension": ".py",
   "mimetype": "text/x-python",
   "name": "python",
   "nbconvert_exporter": "python",
   "pygments_lexer": "ipython3",
   "version": "3.13.2"
  }
 },
 "nbformat": 4,
 "nbformat_minor": 2
}
