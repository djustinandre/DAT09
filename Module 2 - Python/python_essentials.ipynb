{
 "cells": [
  {
   "cell_type": "markdown",
   "metadata": {},
   "source": [
    "## ****Install `ipykernel`****"
   ]
  },
  {
   "cell_type": "code",
   "execution_count": 1,
   "metadata": {},
   "outputs": [
    {
     "name": "stdout",
     "output_type": "stream",
     "text": [
      "Note: you may need to restart the kernel to use updated packages.Requirement already satisfied: ipykernel in c:\\users\\hp\\appdata\\local\\programs\\python\\python313\\lib\\site-packages (6.29.5)\n",
      "Requirement already satisfied: comm>=0.1.1 in c:\\users\\hp\\appdata\\local\\programs\\python\\python313\\lib\\site-packages (from ipykernel) (0.2.2)\n",
      "Requirement already satisfied: debugpy>=1.6.5 in c:\\users\\hp\\appdata\\local\\programs\\python\\python313\\lib\\site-packages (from ipykernel) (1.8.10)\n",
      "Requirement already satisfied: ipython>=7.23.1 in c:\\users\\hp\\appdata\\local\\programs\\python\\python313\\lib\\site-packages (from ipykernel) (8.30.0)\n",
      "Requirement already satisfied: jupyter-client>=6.1.12 in c:\\users\\hp\\appdata\\local\\programs\\python\\python313\\lib\\site-packages (from ipykernel) (8.6.3)\n",
      "Requirement already satisfied: jupyter-core!=5.0.*,>=4.12 in c:\\users\\hp\\appdata\\local\\programs\\python\\python313\\lib\\site-packages (from ipykernel) (5.7.2)\n",
      "Requirement already satisfied: matplotlib-inline>=0.1 in c:\\users\\hp\\appdata\\local\\programs\\python\\python313\\lib\\site-packages (from ipykernel) (0.1.7)\n",
      "Requirement already satisfied: nest-asyncio in c:\\users\\hp\\appdata\\local\\programs\\python\\python313\\lib\\site-packages (from ipykernel) (1.6.0)\n",
      "Requirement already satisfied: packaging in c:\\users\\hp\\appdata\\local\\programs\\python\\python313\\lib\\site-packages (from ipykernel) (24.2)\n",
      "Requirement already satisfied: psutil in c:\\users\\hp\\appdata\\local\\programs\\python\\python313\\lib\\site-packages (from ipykernel) (6.1.0)\n",
      "Requirement already satisfied: pyzmq>=24 in c:\\users\\hp\\appdata\\local\\programs\\python\\python313\\lib\\site-packages (from ipykernel) (26.2.0)\n",
      "Requirement already satisfied: tornado>=6.1 in c:\\users\\hp\\appdata\\local\\programs\\python\\python313\\lib\\site-packages (from ipykernel) (6.4.2)\n",
      "Requirement already satisfied: traitlets>=5.4.0 in c:\\users\\hp\\appdata\\local\\programs\\python\\python313\\lib\\site-packages (from ipykernel) (5.14.3)\n",
      "Requirement already satisfied: colorama in c:\\users\\hp\\appdata\\local\\programs\\python\\python313\\lib\\site-packages (from ipython>=7.23.1->ipykernel) (0.4.6)\n",
      "Requirement already satisfied: decorator in c:\\users\\hp\\appdata\\local\\programs\\python\\python313\\lib\\site-packages (from ipython>=7.23.1->ipykernel) (5.1.1)\n",
      "Requirement already satisfied: jedi>=0.16 in c:\\users\\hp\\appdata\\local\\programs\\python\\python313\\lib\\site-packages (from ipython>=7.23.1->ipykernel) (0.19.2)\n",
      "Requirement already satisfied: prompt_toolkit<3.1.0,>=3.0.41 in c:\\users\\hp\\appdata\\local\\programs\\python\\python313\\lib\\site-packages (from ipython>=7.23.1->ipykernel) (3.0.48)\n",
      "Requirement already satisfied: pygments>=2.4.0 in c:\\users\\hp\\appdata\\local\\programs\\python\\python313\\lib\\site-packages (from ipython>=7.23.1->ipykernel) (2.18.0)\n",
      "Requirement already satisfied: stack_data in c:\\users\\hp\\appdata\\local\\programs\\python\\python313\\lib\\site-packages (from ipython>=7.23.1->ipykernel) (0.6.3)\n",
      "Requirement already satisfied: python-dateutil>=2.8.2 in c:\\users\\hp\\appdata\\local\\programs\\python\\python313\\lib\\site-packages (from jupyter-client>=6.1.12->ipykernel) (2.9.0.post0)\n",
      "Requirement already satisfied: platformdirs>=2.5 in c:\\users\\hp\\appdata\\local\\programs\\python\\python313\\lib\\site-packages (from jupyter-core!=5.0.*,>=4.12->ipykernel) (4.3.6)\n",
      "Requirement already satisfied: pywin32>=300 in c:\\users\\hp\\appdata\\local\\programs\\python\\python313\\lib\\site-packages (from jupyter-core!=5.0.*,>=4.12->ipykernel) (308)\n",
      "Requirement already satisfied: parso<0.9.0,>=0.8.4 in c:\\users\\hp\\appdata\\local\\programs\\python\\python313\\lib\\site-packages (from jedi>=0.16->ipython>=7.23.1->ipykernel) (0.8.4)\n",
      "Requirement already satisfied: wcwidth in c:\\users\\hp\\appdata\\local\\programs\\python\\python313\\lib\\site-packages (from prompt_toolkit<3.1.0,>=3.0.41->ipython>=7.23.1->ipykernel) (0.2.13)\n",
      "Requirement already satisfied: six>=1.5 in c:\\users\\hp\\appdata\\local\\programs\\python\\python313\\lib\\site-packages (from python-dateutil>=2.8.2->jupyter-client>=6.1.12->ipykernel) (1.17.0)\n",
      "Requirement already satisfied: executing>=1.2.0 in c:\\users\\hp\\appdata\\local\\programs\\python\\python313\\lib\\site-packages (from stack_data->ipython>=7.23.1->ipykernel) (2.1.0)\n",
      "Requirement already satisfied: asttokens>=2.1.0 in c:\\users\\hp\\appdata\\local\\programs\\python\\python313\\lib\\site-packages (from stack_data->ipython>=7.23.1->ipykernel) (3.0.0)\n",
      "Requirement already satisfied: pure-eval in c:\\users\\hp\\appdata\\local\\programs\\python\\python313\\lib\\site-packages (from stack_data->ipython>=7.23.1->ipykernel) (0.2.3)\n",
      "\n"
     ]
    },
    {
     "name": "stderr",
     "output_type": "stream",
     "text": [
      "\n",
      "[notice] A new release of pip is available: 24.3.1 -> 25.0.1\n",
      "[notice] To update, run: python.exe -m pip install --upgrade pip\n"
     ]
    }
   ],
   "source": [
    "%pip install ipykernel"
   ]
  },
  {
   "cell_type": "code",
   "execution_count": 2,
   "metadata": {},
   "outputs": [
    {
     "name": "stdout",
     "output_type": "stream",
     "text": [
      "Hello, World\n"
     ]
    }
   ],
   "source": [
    "print(\"Hello, World\")"
   ]
  },
  {
   "cell_type": "markdown",
   "metadata": {},
   "source": [
    "## **Commenting**\n",
    "Commenting is the process of adding annotations or remarks within your code to provide explanations, context, or documentation. Comments are not executed by the interpreter/compiler and are purely for the benefit of developers reading the code.\n",
    "\n",
    "#### **Types of Comments:**"
   ]
  },
  {
   "cell_type": "markdown",
   "metadata": {},
   "source": [
    "- **Single-Line Comments:** These comments start with a specific character (e.g., # in Python) and continue until the end of the line. They are suitable for brief annotations or remarks on individual lines of code."
   ]
  },
  {
   "cell_type": "code",
   "execution_count": 4,
   "metadata": {},
   "outputs": [
    {
     "name": "stdout",
     "output_type": "stream",
     "text": [
      "Hello, World\n"
     ]
    }
   ],
   "source": [
    "# This is a single line comment\n",
    "print(\"Hello, World\")"
   ]
  },
  {
   "cell_type": "markdown",
   "metadata": {},
   "source": [
    "- **Multi-Line Comments:** While many programming languages support multi-line comments, Python does not have an explicit syntax for them. However, multi-line strings (docstrings) enclosed in triple quotes (\"\"\") are often used for this purpose. They are primarily intended for documenting modules, classes, functions, and methods."
   ]
  },
  {
   "cell_type": "code",
   "execution_count": null,
   "metadata": {},
   "outputs": [
    {
     "name": "stdout",
     "output_type": "stream",
     "text": [
      "Hello, World\n"
     ]
    }
   ],
   "source": [
    "\"\"\"\n",
    "  This is a\n",
    "  multi-line\n",
    "  comment\n",
    "\"\"\"\n",
    "print(\"Hello, World\")"
   ]
  },
  {
   "cell_type": "markdown",
   "metadata": {},
   "source": [
    "- **Inline Comments:** Inline comments appear on the same line as code and provide additional context or explanation for that specific line of code. However, excessive use of inline comments can clutter the code and reduce readability, so they should be used sparingly and only when necessary."
   ]
  },
  {
   "cell_type": "code",
   "execution_count": null,
   "metadata": {},
   "outputs": [],
   "source": [
    "print(\"Hello, World\") # This is an example of an inline comment"
   ]
  },
  {
   "cell_type": "markdown",
   "metadata": {},
   "source": [
    "## **Variables**\n",
    "\n",
    "#### **Creating Variables**\n",
    "\n",
    "Creating a variable in Python is simple. You assign a value to a variable name and start using it. Python figures out the variable type automatically.\n",
    "\n",
    "#### **Variable Naming Rules**\n",
    "- Variable names can contain letters (both uppercase and lowercase), digits, and underscores.\n",
    "- They must begin with a letter or an underscore (_), but not with a digit.\n",
    "- Case sensitive (myVar and myvar are different variables)\n",
    "- Python keywords cannot be used as variable names."
   ]
  },
  {
   "cell_type": "code",
   "execution_count": 17,
   "metadata": {},
   "outputs": [
    {
     "name": "stdout",
     "output_type": "stream",
     "text": [
      "10\n",
      "5\n",
      "15\n",
      "5 10 15\n"
     ]
    }
   ],
   "source": [
    "number = 10\n",
    "Number = 5\n",
    "# snake_casing\n",
    "third_number = 15\n",
    "print(number)\n",
    "print(Number)\n",
    "print(third_number)\n",
    "print(Number, number, third_number)"
   ]
  },
  {
   "cell_type": "code",
   "execution_count": null,
   "metadata": {},
   "outputs": [
    {
     "name": "stdout",
     "output_type": "stream",
     "text": [
      "This is a message\n"
     ]
    }
   ],
   "source": [
    "# Variable names are case sensitive\n",
    "Print = \"This is a message\"\n",
    "print(Print)"
   ]
  },
  {
   "cell_type": "markdown",
   "metadata": {},
   "source": [
    "## **Numeric Data Types**\n",
    "\n",
    "- **int** - Integer values, such as `5`, `-3`, `1000`, etc."
   ]
  },
  {
   "cell_type": "code",
   "execution_count": 22,
   "metadata": {},
   "outputs": [
    {
     "name": "stdout",
     "output_type": "stream",
     "text": [
      "Positive Integer: 30\n",
      "Negative Integer: -30\n",
      "Zero: 0\n",
      "Data type of Positive Integer: <class 'int'>\n",
      "Data type of Negative Integer: <class 'int'>\n",
      "Data type of Zero: <class 'int'>\n"
     ]
    }
   ],
   "source": [
    "positive_integer = 30\n",
    "negative_integer = -30\n",
    "zero = 0 \n",
    "\n",
    "print(\"Positive Integer:\", positive_integer)\n",
    "print(\"Negative Integer:\", negative_integer)\n",
    "print(\"Zero:\", zero)\n",
    "print(\"Data type of Positive Integer:\", type(positive_integer))\n",
    "print(\"Data type of Negative Integer:\", type(negative_integer))\n",
    "print(\"Data type of Zero:\", type(zero))"
   ]
  },
  {
   "cell_type": "markdown",
   "metadata": {},
   "source": [
    "- **float**: Floating-point values, representing decimal numbers, such as `3.14`, `-0.001`, `2.0`, etc."
   ]
  },
  {
   "cell_type": "code",
   "execution_count": 23,
   "metadata": {},
   "outputs": [
    {
     "name": "stdout",
     "output_type": "stream",
     "text": [
      "Positive Float: 3.14\n",
      "Negative Float: -3.14\n",
      "Data type of Positive Float: <class 'float'>\n",
      "Data type of Negative Float: <class 'float'>\n"
     ]
    }
   ],
   "source": [
    "positive_float = 3.14\n",
    "negative_float = -3.14\n",
    "\n",
    "print(\"Positive Float:\", positive_float)\n",
    "print(\"Negative Float:\", negative_float)\n",
    "print(\"Data type of Positive Float:\", type(positive_float))\n",
    "print(\"Data type of Negative Float:\", type(negative_float))"
   ]
  },
  {
   "cell_type": "markdown",
   "metadata": {},
   "source": [
    "## **Operators and Expressions**\n",
    "\n",
    "### **Arithmetic Operators**"
   ]
  },
  {
   "cell_type": "code",
   "execution_count": 37,
   "metadata": {},
   "outputs": [
    {
     "name": "stdout",
     "output_type": "stream",
     "text": [
      "Addtion (+): 15\n",
      "Subtraction (-): 5\n",
      "Multiplication (*): 50\n",
      "Division (/): 2.0\n",
      "Remainder (%): 1\n",
      "Remainder (%): 0\n",
      "Exponent(**): 100000\n"
     ]
    }
   ],
   "source": [
    "num1 = 10\n",
    "num2 = 5\n",
    "\n",
    "# Addition (+) = sum\n",
    "sum = num1 + num2\n",
    "print(\"Addtion (+):\", sum)\n",
    "\n",
    "# Subtract (-) = difference\n",
    "print(\"Subtraction (-):\", num1 - num2)\n",
    "\n",
    "# Multiplication (*) = product\n",
    "print(\"Multiplication (*):\", num1 * num2)\n",
    "\n",
    "# Division (/) = quotient\n",
    "# Result is float\n",
    "print(\"Division (/):\", num1 / num2)\n",
    "\n",
    "# Modulus (%) = remainder\n",
    "print(\"Remainder (%):\", 11 % 2)\n",
    "print(\"Remainder (%):\", 10 % 2)\n",
    "\n",
    "# Exponentiation (**)\n",
    "print(\"Exponent(**):\", num1 ** num2)\n"
   ]
  },
  {
   "cell_type": "markdown",
   "metadata": {},
   "source": [
    "## **Boolean Data Type**\n",
    "- **bool**: Boolean values representing True or False."
   ]
  },
  {
   "cell_type": "code",
   "execution_count": null,
   "metadata": {},
   "outputs": [],
   "source": []
  },
  {
   "cell_type": "markdown",
   "metadata": {},
   "source": [
    "### **Comparison Operators**"
   ]
  },
  {
   "cell_type": "code",
   "execution_count": null,
   "metadata": {},
   "outputs": [],
   "source": []
  },
  {
   "cell_type": "markdown",
   "metadata": {},
   "source": [
    "### **Logical Operators**"
   ]
  },
  {
   "cell_type": "code",
   "execution_count": null,
   "metadata": {},
   "outputs": [],
   "source": []
  },
  {
   "cell_type": "markdown",
   "metadata": {},
   "source": [
    "## **Strings and String Methods**\n",
    "\n",
    "Strings are sequences of characters and are among the most used data types in Python, especially in data analytics for processing text data.\n",
    "\n",
    "#### **Introduction to Strings**\n",
    "\n",
    "Strings in Python are created by enclosing characters in quotes. Python treats single quotes (') and double quotes (\") as the same, allowing you to incorporate one type of quote within another including an apostrophe within a string.\n",
    "\n",
    "#### **Creating and Accessing Strings**"
   ]
  },
  {
   "cell_type": "code",
   "execution_count": null,
   "metadata": {},
   "outputs": [],
   "source": []
  },
  {
   "cell_type": "markdown",
   "metadata": {},
   "source": [
    "### **String Methods**"
   ]
  },
  {
   "cell_type": "code",
   "execution_count": null,
   "metadata": {},
   "outputs": [],
   "source": []
  },
  {
   "cell_type": "markdown",
   "metadata": {},
   "source": [
    "### **Concatenation, Formatted String**"
   ]
  },
  {
   "cell_type": "markdown",
   "metadata": {},
   "source": [
    "- **Concatenation**"
   ]
  },
  {
   "cell_type": "code",
   "execution_count": null,
   "metadata": {},
   "outputs": [],
   "source": []
  },
  {
   "cell_type": "markdown",
   "metadata": {},
   "source": [
    "- **Formatted Strings Literals (f-strings)** "
   ]
  },
  {
   "cell_type": "code",
   "execution_count": null,
   "metadata": {},
   "outputs": [],
   "source": []
  },
  {
   "cell_type": "markdown",
   "metadata": {},
   "source": [
    "## **Lists and List Methods**\n",
    "\n",
    "#### **Introduction to Lists**\n",
    "\n",
    "Lists are mutable sequences, meaning you can modify them after creation. They can contain items of any type, making them incredibly versatile for data collection and manipulation tasks.\n",
    "\n",
    "- Mutability: Lists are mutable, meaning their elements can be changed after creation.\n",
    "- Syntax: Lists are enclosed in square brackets ([]), and elements are separated by commas.\n",
    "- Indexing and Ordering: Lists are ordered collections, preserving the order of elements. Elements can be accessed using indices.\n",
    "- Usage: Lists are suitable for mutable sequences of items, like arrays, stacks, or queues.\n",
    "\n",
    "#### **Creating and Modifying Lists**"
   ]
  },
  {
   "cell_type": "code",
   "execution_count": null,
   "metadata": {},
   "outputs": [],
   "source": []
  },
  {
   "cell_type": "markdown",
   "metadata": {},
   "source": [
    "#### **List Methods**"
   ]
  },
  {
   "cell_type": "code",
   "execution_count": null,
   "metadata": {},
   "outputs": [],
   "source": []
  },
  {
   "cell_type": "markdown",
   "metadata": {},
   "source": [
    "#### **List Extending**"
   ]
  },
  {
   "cell_type": "code",
   "execution_count": null,
   "metadata": {},
   "outputs": [],
   "source": []
  },
  {
   "cell_type": "markdown",
   "metadata": {},
   "source": [
    "#### **Sorting List**"
   ]
  },
  {
   "cell_type": "code",
   "execution_count": null,
   "metadata": {},
   "outputs": [],
   "source": []
  },
  {
   "cell_type": "markdown",
   "metadata": {},
   "source": [
    "#### **Searching**"
   ]
  },
  {
   "cell_type": "code",
   "execution_count": null,
   "metadata": {},
   "outputs": [],
   "source": []
  },
  {
   "cell_type": "markdown",
   "metadata": {},
   "source": [
    "#### **Count**"
   ]
  },
  {
   "cell_type": "code",
   "execution_count": null,
   "metadata": {},
   "outputs": [],
   "source": []
  },
  {
   "cell_type": "markdown",
   "metadata": {},
   "source": [
    "## **Tuples**\n",
    "\n",
    "**Introduction to Tuples**\n",
    "\n",
    "Tuples are ordered collections of items, just like lists. However, their immutability makes them useful for fixed data sequences and can serve as keys in dictionaries due to their hashable nature.\n",
    "\n",
    "- Mutability: Tuples are immutable, meaning their elements cannot be changed after creation.\n",
    "- Syntax: Tuples are enclosed in parentheses (()), and elements are separated by commas.\n",
    "- Indexing and Ordering: Tuples are ordered collections, preserving the order of elements. Elements can be accessed using indices.\n",
    "- Usage: Tuples are suitable for immutable sequences, often used for fixed collections of data.\n",
    "\n",
    "#### **Creating a tuple**"
   ]
  },
  {
   "cell_type": "code",
   "execution_count": null,
   "metadata": {},
   "outputs": [],
   "source": []
  },
  {
   "cell_type": "markdown",
   "metadata": {},
   "source": [
    "#### **Accessing Elements**"
   ]
  },
  {
   "cell_type": "code",
   "execution_count": null,
   "metadata": {},
   "outputs": [],
   "source": []
  },
  {
   "cell_type": "markdown",
   "metadata": {},
   "source": [
    "#### **Tuple Immutability**"
   ]
  },
  {
   "cell_type": "code",
   "execution_count": null,
   "metadata": {},
   "outputs": [],
   "source": []
  },
  {
   "cell_type": "markdown",
   "metadata": {},
   "source": [
    "## **Dictionaries and Dictionary Methods**\n",
    "\n",
    "#### **Introduction to Dictionaries**\n",
    "\n",
    "Dictionaries in Python are unordered collections of items. While lists are indexed by a range of numbers, dictionaries are indexed by keys, which can be any immutable type; strings and numbers can always be keys.\n",
    "- Mutability: Dictionaries are mutable, meaning they can be modified by adding, updating, or removing key-value pairs.\n",
    "- Syntax: Dictionaries are enclosed in curly braces ({}), with key-value pairs separated by colons (:) and items separated by commas.\n",
    "- Indexing and Ordering: Dictionaries are unordered collections, and elements are accessed using keys rather than indices.\n",
    "- Usage: Dictionaries are suitable for key-value mappings, efficient lookup, and representing structured data\n",
    "\n",
    "#### **Creating a dictionary and accessing values**"
   ]
  },
  {
   "cell_type": "code",
   "execution_count": null,
   "metadata": {},
   "outputs": [],
   "source": []
  },
  {
   "cell_type": "markdown",
   "metadata": {},
   "source": [
    "#### **Dictionary Methods**"
   ]
  },
  {
   "cell_type": "code",
   "execution_count": null,
   "metadata": {},
   "outputs": [],
   "source": []
  },
  {
   "cell_type": "markdown",
   "metadata": {},
   "source": [
    "## **Control Flow and Statements**"
   ]
  },
  {
   "cell_type": "markdown",
   "metadata": {},
   "source": [
    "#### **Conditional Statements:** \n",
    "Allow us to execute different blocks of code based on a condition.\n",
    "\n",
    "- **if, elif, else statements**"
   ]
  },
  {
   "cell_type": "code",
   "execution_count": null,
   "metadata": {},
   "outputs": [],
   "source": []
  },
  {
   "cell_type": "markdown",
   "metadata": {},
   "source": [
    "#### **Looping Statements:** \n",
    "Repeatedly execute a block of code until a specific condition is met.\n",
    "\n",
    "- **for Loop**"
   ]
  },
  {
   "cell_type": "code",
   "execution_count": null,
   "metadata": {},
   "outputs": [],
   "source": []
  },
  {
   "cell_type": "markdown",
   "metadata": {},
   "source": [
    "## **Functions**\n",
    "\n",
    "- Groups code together into a block.\n",
    "- Allows us to call and reuse code efficently.\n",
    "- It could take in information (parameters) and return information (return statement) to the caller."
   ]
  },
  {
   "cell_type": "code",
   "execution_count": null,
   "metadata": {},
   "outputs": [],
   "source": []
  },
  {
   "cell_type": "markdown",
   "metadata": {},
   "source": [
    "#### **Functions with Parameters and Arguments**"
   ]
  },
  {
   "cell_type": "code",
   "execution_count": null,
   "metadata": {},
   "outputs": [],
   "source": []
  }
 ],
 "metadata": {
  "kernelspec": {
   "display_name": "Python 3",
   "language": "python",
   "name": "python3"
  },
  "language_info": {
   "codemirror_mode": {
    "name": "ipython",
    "version": 3
   },
   "file_extension": ".py",
   "mimetype": "text/x-python",
   "name": "python",
   "nbconvert_exporter": "python",
   "pygments_lexer": "ipython3",
   "version": "3.13.2"
  }
 },
 "nbformat": 4,
 "nbformat_minor": 2
}
