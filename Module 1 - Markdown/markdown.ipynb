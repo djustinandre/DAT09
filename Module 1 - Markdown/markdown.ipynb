{
 "cells": [
  {
   "cell_type": "markdown",
   "metadata": {},
   "source": [
    "# Jupyter Notebook"
   ]
  },
  {
   "cell_type": "markdown",
   "metadata": {},
   "source": [
    "Jupyter Notebook is an open-source web application that allows you to create and share documents that contain live code, equations, visualizations, and narrative text. Notebook & Markdown is widely used for creating documentation and reports."
   ]
  },
  {
   "cell_type": "markdown",
   "metadata": {
    "vscode": {
     "languageId": "plaintext"
    }
   },
   "source": [
    "### Keyboard Shortcuts"
   ]
  },
  {
   "cell_type": "markdown",
   "metadata": {},
   "source": [
    "- **Shift + Enter**: Execute the current cell and move to the next one.\n",
    "- **Ctrl + Enter**: Execute the current cell and remain in the same cell.\n",
    "- **Esc**: Enter command mode, allowing for navigation and execution commands.\n",
    "- **Enter**: Enter edit mode for the currently selected cell.\n",
    "- **A (in command mode)**: Insert a new cell above the current cell.\n",
    "- **B (in command mode)**: Insert a new cell below the current cell.\n",
    "- **M (in command mode)**: Change the current cell to a Markdown cell.\n",
    "- **Y (in command mode)**: Change the current cell to a Code cell."
   ]
  },
  {
   "cell_type": "markdown",
   "metadata": {
    "vscode": {
     "languageId": "plaintext"
    }
   },
   "source": [
    "**What is Markdown?**\n",
    "Markdown is a lightweight markup language with plain-text formatting syntax, designed to be easy to read and write. It was created by John Gruber in 2004 with the goal of allowing people to write using an easy-to-read and easy-to-write plain text format, which could then be converted into structurally valid XHTML (or HTML). Markdown is widely used for creating documentation, writing README files for projects, and even writing emails."
   ]
  },
  {
   "cell_type": "markdown",
   "metadata": {
    "vscode": {
     "languageId": "plaintext"
    }
   },
   "source": [
    "### Headings"
   ]
  },
  {
   "cell_type": "markdown",
   "metadata": {},
   "source": [
    "# Heading 1 - Title\n",
    "## Heading 2 - Major Headings\n",
    "### Heading 3 - Subheadings\n",
    "#### Heading 4 - 4th Level Subheadings\n",
    "##### Heading 5 - 5th Level Subheadings\n",
    "###### Heading 6 - 6th Level Subheadings"
   ]
  },
  {
   "cell_type": "markdown",
   "metadata": {
    "vscode": {
     "languageId": "plaintext"
    }
   },
   "source": [
    "### Plain Text"
   ]
  },
  {
   "cell_type": "markdown",
   "metadata": {
    "vscode": {
     "languageId": "plaintext"
    }
   },
   "source": [
    "This is a sample of a plain text. You use plain text combined with simple symbols to add formatting, which makes the text both readable in its raw form and easily convertible to other formats."
   ]
  },
  {
   "cell_type": "markdown",
   "metadata": {},
   "source": [
    "### Text Formatting"
   ]
  },
  {
   "cell_type": "markdown",
   "metadata": {},
   "source": [
    "This is some **bold text**.\n",
    "This is some __bold text__.\n",
    "\n",
    "This is some *Italicized text*.\n",
    "This is some _Italicized text_.\n",
    "\n",
    "This is some ***bold and italicized text***.\n",
    "\n",
    "This is an ~~invalid text~~\n",
    "\n",
    "The chemical formula for water is H<sub>2</sub>O\n",
    "\n",
    "The formula is x<sup>2</sup>\n",
    "\n",
    "`<sub></sub>`"
   ]
  },
  {
   "cell_type": "markdown",
   "metadata": {
    "vscode": {
     "languageId": "plaintext"
    }
   },
   "source": [
    "### Horizontal Line"
   ]
  },
  {
   "cell_type": "markdown",
   "metadata": {
    "vscode": {
     "languageId": "plaintext"
    }
   },
   "source": [
    "<!-- Hyphen/Dashes -->\n",
    "---\n",
    "\n",
    "<!-- Asterisk -->\n",
    "***\n",
    "\n",
    "<!-- Underscore -->\n",
    "___"
   ]
  },
  {
   "cell_type": "markdown",
   "metadata": {},
   "source": [
    "#### Unordered List\n",
    "- Apple\n",
    "- Banana\n",
    "- Cherry"
   ]
  },
  {
   "cell_type": "markdown",
   "metadata": {},
   "source": [
    "#### Ordered List\n",
    "\n",
    "1. Rinse the rice.\n",
    "2. Add a water.\n",
    "3. Bring it to boil.\n",
    "4. Cover and simmer for 15 - 20 minutes.\n",
    "5. Let it rest for 5 minutes, let's eat."
   ]
  }
 ],
 "metadata": {
  "language_info": {
   "name": "python"
  }
 },
 "nbformat": 4,
 "nbformat_minor": 2
}
